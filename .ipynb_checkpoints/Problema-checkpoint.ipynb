{
 "cells": [
  {
   "cell_type": "markdown",
   "metadata": {},
   "source": [
    "# Proyecto 1 Simulación Matemática"
   ]
  },
  {
   "cell_type": "markdown",
   "metadata": {},
   "source": [
    "Un grupo industrial fabrica y vende fertilizantes de aplicación general. El grupo tiene tres plantas en diferentes localizaciones que producen el fertilizante y envían para su venta a cuatro almacenes ubicados en diferentes partes. Como las plantas tienen diferente antigüedad, los costos de producción varían de acuerdo a la modernidad del proceso que utilizan para la fabricación del fertilizante. Los almacenes trabajan en forma independiente, por lo que el precio de venta por tonelada difiere entre ellos. Los costos de trasnporte de las plantas a los almacenes, el costo de producción, las capacidades de las plantas y la demanda de los almacenes se presenta en la siguiente tabla:\n",
    " "
   ]
  },
  {
   "cell_type": "markdown",
   "metadata": {},
   "source": [
    "\n",
    "| Planta          | Costo de transporte Almacen 1  | Costode transporte Almacen 2 | Costo de transporte Almacen 3 | Costo de transporte Almacen 4 | Capacidad de Producción | Costo de Producción |\n",
    "|-----------------|--------------------------------|------------------------------|-------------------------------|-------------------------------|-------------------------|---------------------|\n",
    "| 1               | 230                            | 180                          | 210                           | 250                           | 650                     | 380                 |\n",
    "| 2               | 210                            | 240                          | 230                           | 180                           | 600                     | 300                 |\n",
    "| 3               | 180                            | 210                          | 270                           | 230                           | 600                     | 350                 |\n"
   ]
  },
  {
   "cell_type": "markdown",
   "metadata": {},
   "source": [
    "| Almacen | Demanda Máxima | Precio de Venta |\n",
    "|---------|----------------|-----------------|\n",
    "| 1       | 300            | 665             |\n",
    "| 2       | 450            | 670             |\n",
    "| 3       | 500            | 640             |\n",
    "| 4       | 600            | 635             |"
   ]
  },
  {
   "cell_type": "markdown",
   "metadata": {},
   "source": [
    "Objetivo: Obtener la utilidad máxima."
   ]
  },
  {
   "cell_type": "markdown",
   "metadata": {},
   "source": [
    "### Planteamiento del objetivo\n",
    "$$U = I - C$$\n",
    "Para calcular la utilidad debemos obtener cuántas toneladas de fertilizante se envían de la planta $i$ al almacén $j$, por lo que nuestra función de utilidad quedaría:\n",
    "\n",
    "$$ U = X_{1,1} [665 - 380 - 230] + X_{1,2} [670 - 380 - 180] + X_{1,3} [640 - 380 - 210] + X_{1,4} [635 - 380 - 250] + $$ \n",
    "$$ X_{2,1} [665 - 300 - 210] + X_{2,2} [670 - 300 - 240] + X_{2,3} [640 - 300 - 230] + X_{2,4} [635 - 300 - 180] + $$\n",
    "$$ X_{3,1} [665 - 350 - 180] + X_{3,2} [670 - 350 - 210] + X_{3,3} [640 - 350 - 270] + X_{3,4} [635 - 350 - 230]$$"
   ]
  },
  {
   "cell_type": "markdown",
   "metadata": {},
   "source": [
    "$$ U = 55 X_{1,1} + 110 X_{1,2} + 50 X_{1,3} + 5 X_{1,4} + 155 X_{2,1} + 130 X_{2,2} + 110 X_{2,3} + 155 X_{2,4} + 135 X_{3,1} + 110 X_{3,2} + 20 X_{3,3} + 55 X_{3,4}$$"
   ]
  },
  {
   "cell_type": "markdown",
   "metadata": {},
   "source": [
    "### Restricciones de Plantas\n",
    "$$ X_{1,1} + X_{1,2} + X_{1,3} + X_{1,4} \\leq 650$$\n",
    "$$ X_{2,1} + X_{2,2} + X_{2,3} + X_{2,4} \\leq 600$$\n",
    "$$ X_{3,1} + X_{3,2} + X_{3,3} + X_{3,4} \\leq 600$$\n",
    "\n",
    "### Restricciones de Almacén\n",
    "$$ X_{1,1} + X_{2,1} + X_{3,1} \\leq 300$$\n",
    "$$ X_{1,2} + X_{2,2} + X_{3,2} \\leq 450$$\n",
    "$$ X_{1,3} + X_{2,3} + X_{3,3} \\leq 500$$\n",
    "$$ X_{1,4} + X_{2,4} + X_{3,4} \\leq 600$$"
   ]
  },
  {
   "cell_type": "code",
   "execution_count": null,
   "metadata": {},
   "outputs": [],
   "source": []
  }
 ],
 "metadata": {
  "kernelspec": {
   "display_name": "Python 3",
   "language": "python",
   "name": "python3"
  },
  "language_info": {
   "codemirror_mode": {
    "name": "ipython",
    "version": 3
   },
   "file_extension": ".py",
   "mimetype": "text/x-python",
   "name": "python",
   "nbconvert_exporter": "python",
   "pygments_lexer": "ipython3",
   "version": "3.7.6"
  }
 },
 "nbformat": 4,
 "nbformat_minor": 4
}
