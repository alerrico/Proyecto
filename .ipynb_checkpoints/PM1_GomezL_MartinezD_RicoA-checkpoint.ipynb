{
 "cells": [
  {
   "cell_type": "markdown",
   "metadata": {},
   "source": [
    "# Maximización de utilidad de venta de fertilizantes."
   ]
  },
  {
   "cell_type": "markdown",
   "metadata": {},
   "source": [
    "Un grupo industrial fabrica y vende fertilizantes de aplicación general. El grupo tiene tres plantas en diferentes localizaciones que producen el fertilizante y envían para su venta a cuatro almacenes ubicados en diferentes partes. Como las plantas tienen diferente antigüedad, los costos de producción varían de acuerdo a la modernidad del proceso que utilizan para la fabricación del fertilizante. Los almacenes trabajan en forma independiente, por lo que el precio de venta por tonelada difiere entre ellos. Los costos de trasnporte de las plantas a los almacenes, el costo de producción, las capacidades de las plantas y la demanda de los almacenes se presenta en la siguiente tabla:\n",
    " "
   ]
  },
  {
   "cell_type": "markdown",
   "metadata": {},
   "source": [
    "\n",
    "| Planta          | Costo de transporte Almacen 1  | Costode transporte Almacen 2 | Costo de transporte Almacen 3 | Costo de transporte Almacen 4 | Capacidad de Producción | Costo de Producción |\n",
    "|-----------------|--------------------------------|------------------------------|-------------------------------|-------------------------------|-------------------------|---------------------|\n",
    "| 1               | 230                            | 180                          | 210                           | 250                           | 650                     | 380                 |\n",
    "| 2               | 210                            | 240                          | 230                           | 180                           | 600                     | 300                 |\n",
    "| 3               | 180                            | 210                          | 270                           | 230                           | 600                     | 350                 |\n"
   ]
  },
  {
   "cell_type": "markdown",
   "metadata": {},
   "source": [
    "| Almacen | Demanda Máxima | Precio de Venta |\n",
    "|---------|----------------|-----------------|\n",
    "| 1       | 300            | 665             |\n",
    "| 2       | 450            | 670             |\n",
    "| 3       | 500            | 640             |\n",
    "| 4       | 600            | 635             |"
   ]
  },
  {
   "cell_type": "markdown",
   "metadata": {},
   "source": [
    "### Objetivo General: \n",
    " - Obtener la utilidad máxima de la venta de fertilizantes.  \n",
    " \n",
    "### Objetivos Específicos:\n",
    " - Tomar en cuenta los costos de transporte de cada almacén, sus costos de producción y restricciones de producción y demanda.\n",
    " - Obtener los ingresos de cada planta para calcular la utilidad."
   ]
  },
  {
   "cell_type": "markdown",
   "metadata": {},
   "source": [
    "### Planteamiento del objetivo\n",
    "$$U = I - C$$\n",
    "Para modelar el problema debemos obtener cuántas toneladas de fertilizante se envían de la planta $i$ al almacén $j$, en donde se multiplicará por la utilidad que generan ellos, determinada por:\n",
    "$$ P - C_T - C_P $$\n",
    "en donde:  \n",
    "$P$ es el precio de venta del almacén $j$  \n",
    "$C_T$ el costo de transporte de la planta $i$ al almacén $j$  \n",
    "$C_P$ el costo de producción de la planta $i$  \n",
    "Por lo que nuestra función de utilidad quedaría:\n",
    "  \n",
    "$$ U = X_{1,1} [665 - 380 - 230] + X_{1,2} [670 - 380 - 180] + X_{1,3} [640 - 380 - 210] + X_{1,4} [635 - 380 - 250] + $$ \n",
    "$$ X_{2,1} [665 - 300 - 210] + X_{2,2} [670 - 300 - 240] + X_{2,3} [640 - 300 - 230] + X_{2,4} [635 - 300 - 180] + $$\n",
    "$$ X_{3,1} [665 - 350 - 180] + X_{3,2} [670 - 350 - 210] + X_{3,3} [640 - 350 - 270] + X_{3,4} [635 - 350 - 230]$$"
   ]
  },
  {
   "cell_type": "markdown",
   "metadata": {},
   "source": [
    "$$ U = 55 X_{1,1} + 110 X_{1,2} + 50 X_{1,3} + 5 X_{1,4} + 155 X_{2,1} + 130 X_{2,2} + 110 X_{2,3} + 155 X_{2,4} + 135 X_{3,1} + 110 X_{3,2} + 20 X_{3,3} + 55 X_{3,4}$$"
   ]
  },
  {
   "cell_type": "markdown",
   "metadata": {},
   "source": [
    "### Restricciones de Producción de las Plantas\n",
    "Cada planta tiene una capacidad máxima de producción, dada por la tabla establecida.\n",
    "$$ X_{1,1} + X_{1,2} + X_{1,3} + X_{1,4} \\leq 650$$\n",
    "$$ X_{2,1} + X_{2,2} + X_{2,3} + X_{2,4} \\leq 600$$\n",
    "$$ X_{3,1} + X_{3,2} + X_{3,3} + X_{3,4} \\leq 600$$\n",
    "\n",
    "### Restricciones de Demanda de Almacenes\n",
    "Cada almacén tiene una demanda máxima de fertilizante.\n",
    "$$ X_{1,1} + X_{2,1} + X_{3,1} \\leq 300$$\n",
    "$$ X_{1,2} + X_{2,2} + X_{3,2} \\leq 450$$\n",
    "$$ X_{1,3} + X_{2,3} + X_{3,3} \\leq 500$$\n",
    "$$ X_{1,4} + X_{2,4} + X_{3,4} \\leq 600$$"
   ]
  },
  {
   "cell_type": "code",
   "execution_count": 1,
   "metadata": {},
   "outputs": [],
   "source": [
    "import numpy as np\n",
    "import matplotlib.pyplot as plt\n",
    "from scipy.optimize import linprog, minimize"
   ]
  },
  {
   "cell_type": "code",
   "execution_count": 2,
   "metadata": {},
   "outputs": [],
   "source": [
    "c = np.array([55, 110, 50, 5 , 155, 130, 110, 155, 135, 110, 20, 55]).T\n",
    "A = np.array([\n",
    "    [1, 1, 1, 1, 0, 0, 0 ,0, 0, 0, 0, 0],\n",
    "    [0, 0, 0 ,0, 1, 1, 1, 1, 0, 0, 0, 0],\n",
    "    [0, 0, 0, 0, 0, 0, 0 ,0, 1, 1, 1, 1],\n",
    "    [1, 0, 0, 0, 1, 0, 0 ,0, 1, 0, 0 ,0],\n",
    "    [0, 1, 0, 0, 0, 1, 0, 0 ,0, 1, 0, 0],\n",
    "    [0, 0, 1, 0, 0, 0, 1, 0, 0 ,0, 1, 0],\n",
    "    [0, 0, 0, 1, 0, 0, 0, 1, 0, 0 ,0, 1],\n",
    "])\n",
    "\n",
    "b = np.array([650, 600, 600, 300, 450, 500, 600]).T\n"
   ]
  },
  {
   "cell_type": "code",
   "execution_count": 3,
   "metadata": {},
   "outputs": [],
   "source": [
    "res = linprog(c=-c, A_ub = A, b_ub = b, method=\"simplex\")"
   ]
  },
  {
   "cell_type": "code",
   "execution_count": 4,
   "metadata": {},
   "outputs": [
    {
     "data": {
      "text/plain": [
       "     con: array([], dtype=float64)\n",
       "     fun: -208000.0\n",
       " message: 'Optimization terminated successfully.'\n",
       "     nit: 14\n",
       "   slack: array([0., 0., 0., 0., 0., 0., 0.])\n",
       "  status: 0\n",
       " success: True\n",
       "       x: array([  0., 150., 500.,   0.,   0.,   0.,   0., 600., 300., 300.,   0.,\n",
       "         0.])"
      ]
     },
     "execution_count": 4,
     "metadata": {},
     "output_type": "execute_result"
    }
   ],
   "source": [
    "res"
   ]
  },
  {
   "cell_type": "code",
   "execution_count": 6,
   "metadata": {},
   "outputs": [
    {
     "name": "stdout",
     "output_type": "stream",
     "text": [
      "Utilidad de la empresa: 208000.0\n",
      "[  0. 150. 500.   0.   0.   0.   0. 600. 300. 300.   0.   0.]\n"
     ]
    }
   ],
   "source": [
    "print(f\"Utilidad de la empresa: {-res.fun}\")\n",
    "print(res.x)"
   ]
  },
  {
   "cell_type": "markdown",
   "metadata": {},
   "source": [
    "En base a los resultados obtenidos, las cantidades de fertilizante de la planta $i$ al almacén $j$ serán:  \n",
    "\n",
    "| Variable | Toneladas de Fertilizante |\n",
    "|---------|----------------|\n",
    "| $X_{1,1}$ | 0  |\n",
    "| $X_{1,2}$ | 150  |\n",
    "| $X_{1,3}$ | 500  |\n",
    "| $X_{1,4}$ | 0  |\n",
    "| $X_{2,1}$ | 0  |\n",
    "| $X_{2,2}$ | 0  |\n",
    "| $X_{2,3}$ | 0  |\n",
    "| $X_{2,4}$ | 600  |\n",
    "| $X_{3,1}$ | 300  |\n",
    "| $X_{3,2}$ | 300  |\n",
    "| $X_{3,3}$ | 0  |\n",
    "| $X_{3,4}$ | 0  |\n",
    "\n",
    "Obteniendo una utilidad máxima de:\n",
    "\n",
    "$$ U = 110(150) + 50 (500)  + 155 (600) + 135 (300) + 110 (300)$$\n",
    "$$ U = \\$208,000 $$"
   ]
  },
  {
   "cell_type": "markdown",
   "metadata": {},
   "source": [
    "### Conclusiones:\n",
    "Al obtener los ingresos de cada planta y restarle los costos obtuvimos una función de utilidad que representa la cantidad de dinero que percibe la empresa al vender cierta cantidad de toneladas de fertilizante en distintos almacenes. Por lo que nuestro objetivo se cumplió ya que logramos modelar esta función junto con las restricciones que presenta cada planta y almacén, y obtuvimos la cantidad óptima de toneladas de fertilizante que maximizan la utilidad de la empresa."
   ]
  },
  {
   "cell_type": "code",
   "execution_count": null,
   "metadata": {},
   "outputs": [],
   "source": []
  }
 ],
 "metadata": {
  "kernelspec": {
   "display_name": "Python 3",
   "language": "python",
   "name": "python3"
  },
  "language_info": {
   "codemirror_mode": {
    "name": "ipython",
    "version": 3
   },
   "file_extension": ".py",
   "mimetype": "text/x-python",
   "name": "python",
   "nbconvert_exporter": "python",
   "pygments_lexer": "ipython3",
   "version": "3.7.6"
  }
 },
 "nbformat": 4,
 "nbformat_minor": 4
}
