{
 "cells": [
  {
   "cell_type": "markdown",
   "metadata": {},
   "source": [
    "Un grupo industrial fabrica y vende fertilizantes de aplicación general. El grupo tiene tres plantas en diferentes localizaciones que producen el fertilizante y envían para su venta a cuatro almacenes ubicados en diferentes partes. Como las plantas tienen diferente antigüedad, los costos de producción varían de acuerdo a la modernidad del proceso que utilizan para la fabricación del fertilizante. Los almacenes trabajan en forma independiente, por lo que el precio de venta por tonelada difiere entre ellos. Los costos de trasnporte de las plantas a los almacenes, el costo de producción, las capacidades de las plantas y la demanda de los almacenes se presenta en la siguiente tabla:\n",
    "\n",
    "Planta|Costo de Transporte|Capacidad de Producción|Costo de Producción"
   ]
  },
  {
   "cell_type": "code",
   "execution_count": null,
   "metadata": {},
   "outputs": [],
   "source": []
  }
 ],
 "metadata": {
  "kernelspec": {
   "display_name": "Python 3",
   "language": "python",
   "name": "python3"
  },
  "language_info": {
   "codemirror_mode": {
    "name": "ipython",
    "version": 3
   },
   "file_extension": ".py",
   "mimetype": "text/x-python",
   "name": "python",
   "nbconvert_exporter": "python",
   "pygments_lexer": "ipython3",
   "version": "3.8.3"
  }
 },
 "nbformat": 4,
 "nbformat_minor": 4
}
